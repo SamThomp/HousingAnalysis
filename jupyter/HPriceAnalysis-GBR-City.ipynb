{
 "cells": [
  {
   "cell_type": "markdown",
   "metadata": {},
   "source": [
    "## Employment Claims and Housing Prices"
   ]
  },
  {
   "cell_type": "code",
   "execution_count": 1,
   "metadata": {},
   "outputs": [],
   "source": [
    "# Load up necessary packagaes\n",
    "import pandas as pd\n",
    "import numpy as np\n",
    "\n",
    "from scipy.stats import ttest_ind\n",
    "from scipy import stats\n",
    "\n",
    "from sklearn.model_selection import train_test_split\n",
    "from sklearn.metrics import accuracy_score, roc_auc_score\n",
    "\n",
    "#from sklearn.ensemble import GradientBoostingClassifier\n",
    "from sklearn.tree import DecisionTreeRegressor\n",
    "#from sklearn.neural_network import MLPClassifier\n",
    "from sklearn.neural_network import MLPRegressor\n",
    "from sklearn.preprocessing import MinMaxScaler\n",
    "\n",
    "import warnings\n",
    "warnings.filterwarnings('ignore')"
   ]
  },
  {
   "cell_type": "markdown",
   "metadata": {},
   "source": [
    "## Housing Price Data\n",
    "Load Housing Data from file and pre-process it"
   ]
  },
  {
   "cell_type": "code",
   "execution_count": 2,
   "metadata": {},
   "outputs": [],
   "source": [
    "raw_zHousing_df = pd.read_csv('State_Zhvi_AllHomes.csv')"
   ]
  },
  {
   "cell_type": "code",
   "execution_count": 3,
   "metadata": {},
   "outputs": [],
   "source": [
    "State_HP_df = raw_zHousing_df.drop(['RegionID','RegionType','StateName', 'SizeRank'], axis = 1)\n",
    "State_HP_df = State_HP_df.set_index(['RegionName'])\n",
    "State_HP_df = State_HP_df.T\n",
    "State_HP_df['Date'] = pd.to_datetime(State_HP_df.index)\n",
    "#zHousing_df['month'] = zHousing_df['Date'].dt.month\n",
    "State_HP_df['year'] = State_HP_df['Date'].dt.year\n",
    "State_HP_df['week'] = State_HP_df['Date'].dt.week\n",
    "State_HP_df = State_HP_df.set_index(['year','week'])\n",
    "\n",
    "State_HP_df = State_HP_df.drop(['Date'], axis=1)\n",
    "#State_HP_df.head()"
   ]
  },
  {
   "cell_type": "markdown",
   "metadata": {},
   "source": [
    "Load data for individual counties"
   ]
  },
  {
   "cell_type": "code",
   "execution_count": 4,
   "metadata": {},
   "outputs": [],
   "source": [
    "raw_cityHousing_df = pd.read_csv('City_Zhvi_AllHomes.csv')"
   ]
  },
  {
   "cell_type": "code",
   "execution_count": 97,
   "metadata": {},
   "outputs": [],
   "source": [
    "countyHP_df = raw_cityHousing_df.drop(['RegionName','RegionType', 'SizeRank','Metro','State','CountyName'], axis = 1)\n",
    "\n",
    "countyHP_df = countyHP_df.drop(['StateName'], axis=1)\n",
    "countyHP_df = countyHP_df.set_index(['RegionID'])\n",
    "countyHP_df = countyHP_df.T\n",
    "countyHP_df['Date'] = pd.to_datetime(countyHP_df.index)\n",
    "countyHP_df['year'] = countyHP_df['Date'].dt.year\n",
    "countyHP_df['week'] = countyHP_df['Date'].dt.week\n",
    "countyHP_df = countyHP_df.set_index(['year','week'])\n",
    "\n",
    "countyHP_df = countyHP_df.drop(['Date'], axis=1)\n",
    "countyHP_df.fillna(method='ffill', inplace=True)\n",
    "countyHP_df.dropna(inplace=True, axis=1)"
   ]
  },
  {
   "cell_type": "code",
   "execution_count": 147,
   "metadata": {},
   "outputs": [],
   "source": [
    "#countyHP_df.head()"
   ]
  },
  {
   "cell_type": "markdown",
   "metadata": {},
   "source": [
    "## Insurance Claims Data\n",
    "\n",
    "Pre-process the insurance claims data"
   ]
  },
  {
   "cell_type": "code",
   "execution_count": 7,
   "metadata": {},
   "outputs": [],
   "source": [
    "raw_Uinsurance_df = pd.read_csv('r539cy-master.xls.csv')"
   ]
  },
  {
   "cell_type": "code",
   "execution_count": 8,
   "metadata": {},
   "outputs": [],
   "source": [
    "Uinsurance_df = raw_Uinsurance_df\n",
    "Uinsurance_df['Date'] = pd.to_datetime(raw_Uinsurance_df['Filed week ended'])\n",
    "#Uinsurance_df['month'] = Uinsurance_df['Date'].dt.month\n",
    "Uinsurance_df['year'] = Uinsurance_df['Date'].dt.year\n",
    "Uinsurance_df['week'] = Uinsurance_df['Date'].dt.week\n",
    "\n",
    "Uinsurance_df = Uinsurance_df.drop(['Date'], axis=1)\n",
    "# drop the records before 1996, to match the data  that is available from Zillow\n",
    "Uinsurance_df = Uinsurance_df[Uinsurance_df['year'] > 1995]\n",
    "\n",
    "Uinsurance_df['Initial Claims'] = Uinsurance_df['Initial Claims'].str.replace(',', '').astype(int)\n",
    "Uinsurance_df['Continued Claims'] = Uinsurance_df['Continued Claims'].str.replace(',', '').astype(int)\n",
    "Uinsurance_df['Covered Employment'] = Uinsurance_df['Covered Employment'].str.replace(',', '').astype(int)"
   ]
  },
  {
   "cell_type": "code",
   "execution_count": 146,
   "metadata": {},
   "outputs": [],
   "source": [
    "#Uinsurance_df.head()"
   ]
  },
  {
   "cell_type": "markdown",
   "metadata": {},
   "source": [
    "Transform unemployment insurance data into format that can be merged with the housing data"
   ]
  },
  {
   "cell_type": "code",
   "execution_count": 10,
   "metadata": {},
   "outputs": [],
   "source": [
    "ui_initclaims_df = pd.pivot_table(Uinsurance_df, values='Initial Claims', index=['year', 'week'], columns=['State'], aggfunc=np.sum)\n",
    "ui_contclaims_df = pd.pivot_table(Uinsurance_df, values='Continued Claims', index=['year', 'week'], columns=['State'], aggfunc=np.sum)\n",
    "ui_rate_df = pd.pivot_table(Uinsurance_df, values='Insured Unemployment Rate', index=['year', 'week'], columns=['State'], aggfunc=np.sum)\n",
    "ui_covEmp_df = pd.pivot_table(Uinsurance_df, values='Covered Employment', index=['year', 'week'], columns=['State'], aggfunc=np.sum)"
   ]
  },
  {
   "cell_type": "markdown",
   "metadata": {},
   "source": [
    "Create look-up table to match the county to the appropriate state"
   ]
  },
  {
   "cell_type": "code",
   "execution_count": 139,
   "metadata": {},
   "outputs": [],
   "source": [
    "state_abbrvMap = raw_cityHousing_df.dropna(axis=0)\n",
    "state_abbrvMap = state_abbrvMap[['RegionID', 'RegionName','State', 'CountyName']]\n",
    "Full_stateName = raw_zHousing_df[['RegionName','StateName']]\n",
    "Full_stateName.columns = ['StateName','Abbreviation']\n",
    "County_State_df = pd.merge(state_abbrvMap, Full_stateName, how='left', left_on='State', right_on='Abbreviation')"
   ]
  },
  {
   "cell_type": "code",
   "execution_count": 145,
   "metadata": {},
   "outputs": [],
   "source": [
    "#County_State_df.head()"
   ]
  },
  {
   "cell_type": "markdown",
   "metadata": {},
   "source": [
    "### Combine Data\n",
    "Combine UI and Housing Price data for each State into DataFrame and Engineer training featues"
   ]
  },
  {
   "cell_type": "code",
   "execution_count": 132,
   "metadata": {},
   "outputs": [],
   "source": [
    "def get_County_df (countyID):    \n",
    "        \n",
    "    # get full state name from state housing price datafile\n",
    "    tmp_lookup_row = County_State_df[County_State_df['RegionID'] == countyID]\n",
    "    stateName = tmp_lookup_row['StateName'].to_numpy()[0]\n",
    "    \n",
    "    tmp_CntyHousingPrc_df = countyHP_df[countyID]\n",
    "    \n",
    "    df = pd.DataFrame([])\n",
    "    df['Initial Claims'] = ui_initclaims_df[stateName]\n",
    "    df['Continued Claims'] = ui_contclaims_df[stateName]\n",
    "    df['Covered Employment'] = ui_covEmp_df[stateName]\n",
    "    df['Insured Unemployment Rate'] = ui_rate_df[stateName]\n",
    "    \n",
    "    df = pd.merge(df, tmp_CntyHousingPrc_df, how='left', left_index=True, right_index=True)    \n",
    "    df[countyID].fillna(method='ffill', inplace=True)\n",
    "    df.fillna(0, inplace=True)\n",
    "    \n",
    "    df['housingTarget'] = round(df[countyID].astype(int) / 1000, 1)\n",
    "        \n",
    "    if countyID in df.columns:\n",
    "        df.sort_index(ascending=True, inplace=True)\n",
    "        df = df.reset_index()\n",
    "\n",
    "        df.fillna(0, inplace=True)        \n",
    "        df['PrevHousePrc'] = df['housingTarget'].rolling(2, min_periods=1).sum() - df['housingTarget']\n",
    "        df['MvngAvgPrc15'] = round(df['PrevHousePrc'].rolling(10).mean())\n",
    "        df['MvngAvgPrc30'] = round(df['PrevHousePrc'].rolling(15).mean())    \n",
    "\n",
    "        df = df.drop([countyID], axis=1)\n",
    "        \n",
    "    df.fillna(method='ffill', inplace=True)\n",
    "    df.fillna(0, inplace=True)\n",
    "    \n",
    "    df = df.iloc[1:]  \n",
    "    test_df = df.tail(1)\n",
    "    df.drop(df.tail(1).index, inplace=True)\n",
    "    \n",
    "    \n",
    "    return df, test_df"
   ]
  },
  {
   "cell_type": "code",
   "execution_count": 148,
   "metadata": {},
   "outputs": [
    {
     "data": {
      "text/html": [
       "<div>\n",
       "<style scoped>\n",
       "    .dataframe tbody tr th:only-of-type {\n",
       "        vertical-align: middle;\n",
       "    }\n",
       "\n",
       "    .dataframe tbody tr th {\n",
       "        vertical-align: top;\n",
       "    }\n",
       "\n",
       "    .dataframe thead th {\n",
       "        text-align: right;\n",
       "    }\n",
       "</style>\n",
       "<table border=\"1\" class=\"dataframe\">\n",
       "  <thead>\n",
       "    <tr style=\"text-align: right;\">\n",
       "      <th></th>\n",
       "      <th>year</th>\n",
       "      <th>week</th>\n",
       "      <th>Initial Claims</th>\n",
       "      <th>Continued Claims</th>\n",
       "      <th>Covered Employment</th>\n",
       "      <th>Insured Unemployment Rate</th>\n",
       "      <th>housingTarget</th>\n",
       "      <th>PrevHousePrc</th>\n",
       "      <th>MvngAvgPrc15</th>\n",
       "      <th>MvngAvgPrc30</th>\n",
       "    </tr>\n",
       "  </thead>\n",
       "  <tbody>\n",
       "    <tr>\n",
       "      <th>1264</th>\n",
       "      <td>2020</td>\n",
       "      <td>15</td>\n",
       "      <td>222207</td>\n",
       "      <td>749011</td>\n",
       "      <td>4305711</td>\n",
       "      <td>17.4</td>\n",
       "      <td>399.4</td>\n",
       "      <td>399.4</td>\n",
       "      <td>400.0</td>\n",
       "      <td>400.0</td>\n",
       "    </tr>\n",
       "  </tbody>\n",
       "</table>\n",
       "</div>"
      ],
      "text/plain": [
       "      year  week  Initial Claims  Continued Claims  Covered Employment  \\\n",
       "1264  2020    15          222207            749011             4305711   \n",
       "\n",
       "      Insured Unemployment Rate  housingTarget  PrevHousePrc  MvngAvgPrc15  \\\n",
       "1264                       17.4          399.4         399.4         400.0   \n",
       "\n",
       "      MvngAvgPrc30  \n",
       "1264         400.0  "
      ]
     },
     "execution_count": 148,
     "metadata": {},
     "output_type": "execute_result"
    }
   ],
   "source": [
    "#df, test = get_County_df (8097)\n",
    "#test"
   ]
  },
  {
   "cell_type": "markdown",
   "metadata": {},
   "source": [
    "#### Correlation Test Function\n",
    "Test how strongly the values are co-related"
   ]
  },
  {
   "cell_type": "code",
   "execution_count": 50,
   "metadata": {},
   "outputs": [],
   "source": [
    "def get_State_Prop (df):\n",
    "    \n",
    "    fin_r = stats.ttest_ind(df['Initial Claims'], df['housingTarget'], equal_var=False)\n",
    "    return fin_r[0], fin_r[1], len(df['housingTarget'].unique())"
   ]
  },
  {
   "cell_type": "code",
   "execution_count": 51,
   "metadata": {},
   "outputs": [
    {
     "data": {
      "text/plain": [
       "(32.96657568902683, 1.9157875909124523e-172, 261)"
      ]
     },
     "execution_count": 51,
     "metadata": {},
     "output_type": "execute_result"
    }
   ],
   "source": [
    "df, test_df = get_County_df ('Ann Arbor')\n",
    "get_State_Prop (df)"
   ]
  },
  {
   "cell_type": "markdown",
   "metadata": {},
   "source": [
    "### Train GBT Model"
   ]
  },
  {
   "cell_type": "code",
   "execution_count": 150,
   "metadata": {},
   "outputs": [],
   "source": [
    "def train_StateModels():\n",
    "\n",
    "    #scounties = County_State_df[County_State_df['StateName'] == 'Michigan']\n",
    "    #counties = counties['RegionID'].to_numpy()\n",
    "    counties = ['Ann Arbor','Ypsilanti']\n",
    "    \n",
    "    for county in counties:\n",
    "\n",
    "        df, f_test = get_County_df(county)\n",
    "        \n",
    "        # features\n",
    "        X = df[['Initial Claims','Continued Claims','Insured Unemployment Rate','Covered Employment','PrevHousePrc']]\n",
    "        # target\n",
    "        y = df[['housingTarget']]\n",
    "        \n",
    "        X_train, X_test, y_train, y_test = train_test_split(X, y, random_state = 42)\n",
    "\n",
    "        clf = DecisionTreeRegressor(random_state = 42, max_depth = 4)\n",
    "        clf.fit(X_train, y_train)\n",
    "\n",
    "        y_predicted = clf.predict(f_test[['Initial Claims','Continued Claims','Insured Unemployment Rate','Covered Employment','PrevHousePrc']]) \n",
    "        \n",
    "        state_Results.append([county, clf.score(X_train, y_train), clf.score(X_test, y_test), y_predicted[0], f_test['housingTarget'].to_numpy()[0]])\n",
    "        \n",
    "    return state_Results\n",
    "\n",
    "#train_StateModels()"
   ]
  },
  {
   "cell_type": "markdown",
   "metadata": {},
   "source": [
    "#### Feature Assessment for GBDT\n",
    "Call the grid search to identify which parameters work be"
   ]
  },
  {
   "cell_type": "markdown",
   "metadata": {},
   "source": [
    "## MLP Regressor"
   ]
  },
  {
   "cell_type": "code",
   "execution_count": 149,
   "metadata": {},
   "outputs": [],
   "source": [
    "# MLP CLassifier Model\n",
    "def train_StateMLPMdls():\n",
    "    \n",
    "    counties = County_State_df[County_State_df['StateName'] == 'Michigan']\n",
    "    counties = counties['RegionID'].to_numpy()\n",
    "    #counties = ['Ann Arbor','Ypsilanti']\n",
    "    \n",
    "    for countyID in counties:\n",
    "        \n",
    "        df, f_test = get_County_df(countyID)\n",
    "\n",
    "        X = df.drop(['housingTarget'], axis=1)\n",
    "        y = df[['housingTarget']]\n",
    "\n",
    "        X_train, X_test, y_train, y_test = train_test_split(X, y, test_size = 0.2, random_state = 42)\n",
    "\n",
    "        scaler = MinMaxScaler()\n",
    "\n",
    "        X_train_scaled = scaler.fit_transform(X_train)\n",
    "        X_test_scaled = scaler.transform(X_test)\n",
    "        X_ftest_scaled = scaler.transform(X.iloc[-1:])\n",
    "                               \n",
    "        mlp_clf = MLPRegressor(hidden_layer_sizes = [100, 100], solver='lbfgs', alpha=0.15, random_state=42).fit(X_train_scaled, y_train)                \n",
    "        y_predicted = mlp_clf.predict(X_ftest_scaled) \n",
    "        \n",
    "        state_Results.append([countyID, mlp_clf.score(X_train_scaled, y_train), mlp_clf.score(X_test_scaled, y_test), y_predicted[0], f_test['housingTarget'].to_numpy()[0]])\n",
    "        \n",
    "    return state_Results\n"
   ]
  },
  {
   "cell_type": "code",
   "execution_count": 144,
   "metadata": {},
   "outputs": [
    {
     "data": {
      "text/plain": [
       "0.9906253451245424"
      ]
     },
     "execution_count": 144,
     "metadata": {},
     "output_type": "execute_result"
    }
   ],
   "source": [
    "def save_results(model):\n",
    "\n",
    "    if 'mlp' in model:\n",
    "        State_results_df = pd.DataFrame(train_StateMLPMdls())\n",
    "        #State_results_df.columns = ['State','Train Score', 'Test Score', 'Statistic', 'Pvalue', 'Unique Targets','Predicted', 'Actual']\n",
    "        State_results_df.to_csv('countyResults_mlp.csv', index=False)\n",
    "    else: \n",
    "        State_results_df = pd.DataFrame(train_StateModels())\n",
    "        #State_results_df.sort_values(by=['Test Score'], ascending=False, inplace=True)  \n",
    "        #State_results_df.columns = ['State','Train Score', 'Test Score', 'Statistic', 'Pvalue', 'Unique Targets','Predicted', 'Actual']\n",
    "        State_results_df.to_csv('countyResults_gbc.csv', index=False)\n",
    "    \n",
    "    return State_results_df[2].to_numpy().mean()\n",
    "    \n",
    "save_results('mlp')"
   ]
  },
  {
   "cell_type": "markdown",
   "metadata": {},
   "source": [
    "# Sources\n",
    "\n",
    "GDP\n",
    "#https://apps.bea.gov/regional/Downloadzip.cfm\n",
    "#https://apps.bea.gov/itable/iTable.cfm?ReqID=70&step=1\n",
    "\n",
    "Unemployment\n",
    "#https://oui.doleta.gov/unemploy/claims_arch.asp"
   ]
  },
  {
   "cell_type": "code",
   "execution_count": null,
   "metadata": {},
   "outputs": [],
   "source": []
  }
 ],
 "metadata": {
  "kernelspec": {
   "display_name": "Python 3",
   "language": "python",
   "name": "python3"
  },
  "language_info": {
   "codemirror_mode": {
    "name": "ipython",
    "version": 3
   },
   "file_extension": ".py",
   "mimetype": "text/x-python",
   "name": "python",
   "nbconvert_exporter": "python",
   "pygments_lexer": "ipython3",
   "version": "3.7.7"
  }
 },
 "nbformat": 4,
 "nbformat_minor": 4
}
